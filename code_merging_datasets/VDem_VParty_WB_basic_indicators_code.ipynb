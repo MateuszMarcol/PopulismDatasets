{
 "cells": [
  {
   "cell_type": "markdown",
   "id": "90d08f26",
   "metadata": {},
   "source": [
    "<b>This notebook contains the code used for merging following files:<b>\n",
    "    <ul>\n",
    "        <li><i>VParty_VDem_WB_basic_indicators.csv</i></li>\n",
    "    </ul>"
   ]
  },
  {
   "cell_type": "code",
   "execution_count": 1,
   "id": "eeb636c6",
   "metadata": {},
   "outputs": [],
   "source": [
    "# importing modules\n",
    "\n",
    "import pandas as pd\n",
    "import numpy as np"
   ]
  },
  {
   "cell_type": "code",
   "execution_count": 4,
   "id": "d016e004",
   "metadata": {},
   "outputs": [],
   "source": [
    "# READING IN DATASETS"
   ]
  },
  {
   "cell_type": "code",
   "execution_count": 85,
   "id": "d5e91a3d",
   "metadata": {},
   "outputs": [],
   "source": [
    "''' Smaller datasets were uploaded on the relevant github page (link: https://github.com/MateuszMarcol/PopulismDatasets),\n",
    "the bigger datasets need to be downloaded by the user who is running this code. I will explicitly specify where a download is necessary.'''\n",
    "\n",
    "# Reading in V-Party dataset (filename: V-Dem-CPD-Party-V2.csv)\n",
    "link_VParty = 'https://raw.githubusercontent.com/MateuszMarcol/PopulismDatasets/main/datasets_raw/V-Dem-CPD-Party-V2.csv'\n",
    "dataset_VParty = pd.read_csv(link_VParty)"
   ]
  },
  {
   "cell_type": "code",
   "execution_count": 86,
   "id": "bc2642dc",
   "metadata": {},
   "outputs": [
    {
     "name": "stderr",
     "output_type": "stream",
     "text": [
      "/Users/mateuszmarcol/opt/anaconda3/lib/python3.8/site-packages/IPython/core/interactiveshell.py:3165: DtypeWarning: Columns (364,365,366,394,410,821,831,832,930,1235,1252,1481,3063,3282,3283,3338,3340,3344,3345,3347,3348,3349) have mixed types.Specify dtype option on import or set low_memory=False.\n",
      "  has_raised = await self.run_ast_nodes(code_ast.body, cell_name,\n"
     ]
    }
   ],
   "source": [
    "# Reading in V-Dem dataset\n",
    "'''Since V-Dem is a huge dataset (and I use the Full version) it needs to be downloaded directly. A variable \"VDem_path\"\n",
    "should be respecified by the user.'''\n",
    "\n",
    "VDem_path = '/Users/mateuszmarcol/Datasets/Country_Year_V-Dem_Full+others_CSV_v12/V-Dem-CY-Full+Others-v12.csv'\n",
    "dataset_VDem = pd.read_csv(VDem_path) # !DOWNLOAD NEEDED"
   ]
  },
  {
   "cell_type": "code",
   "execution_count": 87,
   "id": "e46d86b4",
   "metadata": {},
   "outputs": [],
   "source": [
    "# Reading in World Bank datasets\n",
    "\n",
    "WB_indicators_link = \"https://raw.githubusercontent.com/MateuszMarcol/PopulismDatasets/main/datasets_raw/WB_basic_indicators.csv\"\n",
    "dataset_WB_indicators = pd.read_csv(WB_indicators_link)"
   ]
  },
  {
   "cell_type": "markdown",
   "id": "56be4b1b",
   "metadata": {},
   "source": [
    "<H1>MERGING DATASETS</H1>"
   ]
  },
  {
   "cell_type": "code",
   "execution_count": 8,
   "id": "45667792",
   "metadata": {},
   "outputs": [],
   "source": [
    "# ADDING WORLD BANK INDICATORS TO V-DEM DATASET"
   ]
  },
  {
   "cell_type": "code",
   "execution_count": 88,
   "id": "f53e0718",
   "metadata": {},
   "outputs": [],
   "source": [
    "# list of all WB indicators\n",
    "WB_basic_indicators_list = list(set(dataset_WB_indicators[\"Series Name\"]))\n",
    "# dropping the redundant variables from WB indicators list\n",
    "WB_basic_indicators_list.remove('Last Updated: 02/15/2022') # deleting the non-indicator variable\n",
    "del WB_basic_indicators_list[0] # deleting first nan element"
   ]
  },
  {
   "cell_type": "code",
   "execution_count": 89,
   "id": "d75a4b78",
   "metadata": {},
   "outputs": [
    {
     "data": {
      "text/plain": [
       "['Births attended by skilled health staff (% of total)',\n",
       " 'GNI per capita, Atlas method (current US$)',\n",
       " 'Population, total',\n",
       " 'High-technology exports (% of manufactured exports)',\n",
       " 'Life expectancy at birth, total (years)',\n",
       " 'Poverty headcount ratio at national poverty lines (% of population)',\n",
       " 'External debt stocks, total (DOD, current US$)',\n",
       " 'Contraceptive prevalence, any method (% of married women ages 15-49)',\n",
       " 'Prevalence of HIV, total (% of population ages 15-49)',\n",
       " 'Net migration',\n",
       " 'GDP (current US$)',\n",
       " 'Forest area (sq. km)',\n",
       " 'Revenue, excluding grants (% of GDP)',\n",
       " 'GDP per capita (current US$)',\n",
       " 'Personal remittances, paid (current US$)',\n",
       " 'Immunization, measles (% of children ages 12-23 months)',\n",
       " 'Income share held by lowest 20%',\n",
       " 'CO2 emissions (metric tons per capita)',\n",
       " 'Market capitalization of listed domestic companies (% of GDP)',\n",
       " 'Net ODA received per capita (current US$)',\n",
       " 'Foreign direct investment, net (BoP, current US$)',\n",
       " 'Agriculture, forestry, and fishing, value added (% of GDP)',\n",
       " 'Start-up procedures to register a business (number)',\n",
       " 'GNI, Atlas method (current US$)',\n",
       " 'Water productivity, total (constant 2015 US$ GDP per cubic meter of total freshwater withdrawal)',\n",
       " 'Energy use (kg of oil equivalent per capita)',\n",
       " 'Surface area (sq. km)',\n",
       " 'Mobile cellular subscriptions (per 100 people)',\n",
       " 'Inflation, consumer prices (annual %)',\n",
       " 'Inflation, GDP deflator (annual %)',\n",
       " 'Net barter terms of trade index (2000 = 100)',\n",
       " 'Mortality rate, under-5 (per 1,000 live births)',\n",
       " 'Primary completion rate, total (% of relevant age group)',\n",
       " 'Merchandise trade (% of GDP)',\n",
       " 'Total debt service (% of GNI)',\n",
       " 'School enrollment, primary and secondary (gross), gender parity index (GPI)',\n",
       " 'Gross capital formation (% of GDP)',\n",
       " 'Population growth (annual %)',\n",
       " 'Prevalence of underweight, weight for age (% of children under 5)',\n",
       " 'Fertility rate, total (births per woman)',\n",
       " 'Electric power consumption (kWh per capita)',\n",
       " 'School enrollment, secondary (% gross)',\n",
       " 'Data from database: World Development Indicators',\n",
       " 'GNI per capita, PPP (current international $)',\n",
       " 'Adolescent fertility rate (births per 1,000 women ages 15-19)',\n",
       " 'Military expenditure (% of GDP)',\n",
       " 'Industry (including construction), value added (% of GDP)',\n",
       " 'Foreign direct investment, net inflows (BoP, current US$)',\n",
       " 'GDP growth (annual %)',\n",
       " 'Exports of goods and services (% of GDP)',\n",
       " 'Imports of goods and services (% of GDP)',\n",
       " 'GNI, PPP (current international $)']"
      ]
     },
     "execution_count": 89,
     "metadata": {},
     "output_type": "execute_result"
    }
   ],
   "source": [
    "WB_basic_indicators_list"
   ]
  },
  {
   "cell_type": "code",
   "execution_count": 90,
   "id": "8b79159e",
   "metadata": {},
   "outputs": [],
   "source": [
    "# DEFINING FUNCTIONS FOR WB DATA MANIPULATION\n",
    "\n",
    "# this function returns a simple dataframe (based on WB dataset) with \n",
    "# following columns: [country 3-digit code, year, variable of interest from WB]\n",
    "# the variable name needs to be specified\n",
    "def WB_dataframe(variable_name): \n",
    "    # years are the columns in WB dataset, so firsty these columns need to be rearranged to variables\n",
    "    dataset_modified = dataset_WB_indicators[dataset_WB_indicators[\"Series Name\"]==variable_name].melt(id_vars=['Country Code'], value_vars=['1971 [YR1971]', '1972 [YR1972]', '1973 [YR1973]', '1974 [YR1974]',\n",
    "       '1975 [YR1975]', '1976 [YR1976]', '1977 [YR1977]', '1978 [YR1978]',\n",
    "       '1979 [YR1979]', '1980 [YR1980]', '1981 [YR1981]', '1982 [YR1982]',\n",
    "       '1983 [YR1983]', '1984 [YR1984]', '1985 [YR1985]', '1986 [YR1986]',\n",
    "       '1987 [YR1987]', '1988 [YR1988]', '1989 [YR1989]', '1990 [YR1990]',\n",
    "       '1991 [YR1991]', '1992 [YR1992]', '1993 [YR1993]', '1994 [YR1994]',\n",
    "       '1995 [YR1995]', '1996 [YR1996]', '1997 [YR1997]', '1998 [YR1998]',\n",
    "       '1999 [YR1999]', '2000 [YR2000]', '2001 [YR2001]', '2002 [YR2002]',\n",
    "       '2003 [YR2003]', '2004 [YR2004]', '2005 [YR2005]', '2006 [YR2006]',\n",
    "       '2007 [YR2007]', '2008 [YR2008]', '2009 [YR2009]', '2010 [YR2010]',\n",
    "       '2011 [YR2011]', '2012 [YR2012]', '2013 [YR2013]', '2014 [YR2014]',\n",
    "       '2015 [YR2015]', '2016 [YR2016]', '2017 [YR2017]', '2018 [YR2018]',\n",
    "       '2019 [YR2019]', '2020 [YR2020]']) # melting the columns into a \"year\" variable\n",
    "    \n",
    "    dataset_modified[\"variable\"] = dataset_modified[\"variable\"].apply(lambda x: int(str(x[0:4]))) # simplifying the notation for a year \n",
    "    \n",
    "    dataset_modified.rename(columns={\"variable\":\"year\", \"value\":variable_name, \"Country Code\": \"country_text_id\"}, inplace=True) \n",
    "    # renaming variables to V-Dem-consistent notation (\"year\", \"country_text_id\")\n",
    "\n",
    "    dataset_modified[variable_name] = pd.to_numeric(dataset_modified[variable_name], errors=\"coerce\")\n",
    "    # changing the value type to numeric type\n",
    "    \n",
    "    return dataset_modified\n",
    "\n",
    "# this function creates a dataset based on the list of WB indicators\n",
    "def complete_WB_dataframe(list_of_indicators):\n",
    "    dataset = WB_dataframe(list_of_indicators[0]) # setting up the base frame with the first WB variable\n",
    "    for i in list_of_indicators[1:]: # adding another variables from the list (skipping th first one)\n",
    "        if i not in list(dataset.columns):\n",
    "            dataset = pd.merge(dataset, WB_dataframe(i), on=[\"country_text_id\", \"year\"], how=\"outer\") \n",
    "            # the outer option does not allow for observations to be dropped\n",
    "    return dataset"
   ]
  },
  {
   "cell_type": "code",
   "execution_count": 91,
   "id": "03560763",
   "metadata": {},
   "outputs": [],
   "source": [
    "# calling out the function with list that contains all variables as a function argument\n",
    "aggregated_WB_indicators = complete_WB_dataframe(WB_basic_indicators_list)\n",
    "\n",
    "# the obtained dataset contains all WB indicators \n",
    "# this dataset is V-Dem friendly, therefore merging will be easier and more effective"
   ]
  },
  {
   "cell_type": "code",
   "execution_count": 92,
   "id": "1c81c9ca",
   "metadata": {},
   "outputs": [],
   "source": [
    "# MERGING WORLD BANK INDICATORS WITH V-DEM"
   ]
  },
  {
   "cell_type": "code",
   "execution_count": 93,
   "id": "8eedc7a5",
   "metadata": {},
   "outputs": [],
   "source": [
    "# merging the aggregated_WB_indicators dataframe with V-Dem\n",
    "dataset_VDem_WB_all_indicators = pd.merge(dataset_VDem, aggregated_WB_indicators, on=[\"country_text_id\", \"year\"], how=\"left\")"
   ]
  },
  {
   "cell_type": "code",
   "execution_count": 94,
   "id": "1e8fe13d",
   "metadata": {},
   "outputs": [],
   "source": [
    "# MERGING V-PARTY WITH WORLD BANK DATA & V-DEM"
   ]
  },
  {
   "cell_type": "code",
   "execution_count": 95,
   "id": "ae7bccb3",
   "metadata": {
    "scrolled": true
   },
   "outputs": [
    {
     "data": {
      "text/plain": [
       "'Disclaimer: variables that have the same name in both datasets (like \\'country_name\\') will have a suffix added - \"_x\" for V-Party\\nand \"_y\" for V-Dem variables.'"
      ]
     },
     "execution_count": 95,
     "metadata": {},
     "output_type": "execute_result"
    }
   ],
   "source": [
    "'''In V-Party an observation is a political party in a given year. This dataset also contains populism variables. On the other hand,\n",
    "The V-Dem_WB_all_indicators dataset (that was created above) contains country- and year-specific variables. The way I merge both datasets\n",
    "is following:\n",
    "    - I treat V-Party as a base (as it contains populism variables).\n",
    "    - To all parties in a given year I add a country-year-specific observation from V-Dem & World Bank.\n",
    "    - If more parties were examined in the same year (which is often the case), then they will have assigned the same \n",
    "      V-Dem & World Bank extension.\n",
    "    Disclaimer: All V-Dem & World Bank observations that do not correspond to countries and years covered in V-Party are dropped'''\n",
    "\n",
    "# merging V-Party and V-Dem & World Bank\n",
    "dataset_VDem_VParty_WB_basic_indicators = pd.merge(dataset_VParty, dataset_VDem_WB_all_indicators, on=[\"country_text_id\", \"year\"], how=\"left\")\n",
    "\n",
    "'''Disclaimer: variables that have the same name in both datasets (like 'country_name') will have a suffix added - \"_x\" for V-Party\n",
    "and \"_y\" for V-Dem variables.'''"
   ]
  },
  {
   "cell_type": "code",
   "execution_count": 98,
   "id": "b1e32cb7",
   "metadata": {},
   "outputs": [],
   "source": [
    "# this saved dataset is saved on the user's driver, therefore a path specification is needed\n",
    "\n",
    "user_path = \"/Users/mateuszmarcol/Populism/PopulismDatasets/\" # the user's path to respecify\n",
    "dataset_VDem_VParty_WB_basic_indicators.to_csv(user_path + \"VDem_VParty_WB_basic_indicators.csv\")"
   ]
  }
 ],
 "metadata": {
  "kernelspec": {
   "display_name": "Python 3",
   "language": "python",
   "name": "python3"
  },
  "language_info": {
   "codemirror_mode": {
    "name": "ipython",
    "version": 3
   },
   "file_extension": ".py",
   "mimetype": "text/x-python",
   "name": "python",
   "nbconvert_exporter": "python",
   "pygments_lexer": "ipython3",
   "version": "3.8.8"
  }
 },
 "nbformat": 4,
 "nbformat_minor": 5
}
